{
 "cells": [
  {
   "cell_type": "code",
   "execution_count": 5,
   "metadata": {},
   "outputs": [
    {
     "name": "stderr",
     "output_type": "stream",
     "text": [
      "/usr/local/lib/python3.5/dist-packages/ipykernel_launcher.py:8: DeprecationWarning: `imread` is deprecated!\n",
      "`imread` is deprecated in SciPy 1.0.0, and will be removed in 1.2.0.\n",
      "Use ``imageio.imread`` instead.\n",
      "  \n"
     ]
    },
    {
     "data": {
      "image/png": "[encoded data removed]",
      "text/plain": [
       "<Figure size 432x288 with 1 Axes>"
      ]
     },
     "metadata": {},
     "output_type": "display_data"
    }
   ],
   "source": [
    "import numpy as np\n",
    "import scipy\n",
    "from scipy.misc import imread\n",
    "import maxflow\n",
    "from matplotlib import pyplot as plt\n",
    "\n",
    "\n",
    "img = imread(\"img/a2.png\")\n",
    "\n",
    "# Create the graph.\n",
    "g = maxflow.Graph[int]()\n",
    "# Add the nodes. nodeids has the identifiers of the nodes in the grid.\n",
    "nodeids = g.add_grid_nodes(img.shape)\n",
    "# Add non-terminal edges with the same capacity.\n",
    "g.add_grid_edges(nodeids, 50)\n",
    "# Add the terminal edges. The image pixels are the capacities\n",
    "# of the edges from the source node. The inverted image pixels\n",
    "# are the capacities of the edges to the sink node.\n",
    "g.add_grid_tedges(nodeids, img, 255-img)\n",
    "\n",
    "\n",
    "# Find the maximum flow.\n",
    "g.maxflow()\n",
    "# Get the segments of the nodes in the grid.\n",
    "sgm = g.get_grid_segments(nodeids)\n",
    "\n",
    "\n",
    "# The labels should be 1 where sgm is False and 0 otherwise.\n",
    "img2 = np.int_(np.logical_not(sgm))\n",
    "# Show the result.\n",
    "\n",
    "plt.imshow(img2, cmap=plt.cm.gray, interpolation='nearest')\n",
    "plt.show()"
   ]
  },
  {
   "cell_type": "code",
   "execution_count": null,
   "metadata": {
    "collapsed": true
   },
   "outputs": [],
   "source": []
  },
  {
   "cell_type": "code",
   "execution_count": null,
   "metadata": {
    "collapsed": true
   },
   "outputs": [],
   "source": []
  }
 ],
 "metadata": {
  "kernelspec": {
   "display_name": "Python 3",
   "language": "python",
   "name": "python3"
  },
  "language_info": {
   "codemirror_mode": {
    "name": "ipython",
    "version": 3
   },
   "file_extension": ".py",
   "mimetype": "text/x-python",
   "name": "python",
   "nbconvert_exporter": "python",
   "pygments_lexer": "ipython3",
   "version": "3.5.2"
  }
 },
 "nbformat": 4,
 "nbformat_minor": 2
}
